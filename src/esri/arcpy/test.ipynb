{
 "cells": [
  {
   "cell_type": "code",
   "execution_count": 1,
   "id": "827108d3",
   "metadata": {},
   "outputs": [],
   "source": [
    "from arcgis.gis import GIS\n",
    "from arcgis.geocoding import geocode\n",
    "from arcgis.geometry import lengths, areas_and_lengths, project\n",
    "from arcgis.geometry import Point, Polyline, Polygon, Geometry\n",
    "import pandas as pd"
   ]
  },
  {
   "cell_type": "code",
   "execution_count": 2,
   "id": "c32fdafe",
   "metadata": {},
   "outputs": [
    {
     "data": {
      "application/vnd.jupyter.widget-view+json": {
       "model_id": "f99b3b3d490643899efe0e6a8270bd75",
       "version_major": 2,
       "version_minor": 0
      },
      "text/plain": [
       "MapView(layout=Layout(height='400px', width='100%'))"
      ]
     },
     "metadata": {},
     "output_type": "display_data"
    },
    {
     "data": {
      "text/html": [
       "<div class=\"map-static-img-preview-38a147a8-fa05-4728-913a-0685b63e755a\"><img src=\"\"></img></div>"
      ],
      "text/plain": [
       "<IPython.core.display.HTML object>"
      ]
     },
     "metadata": {},
     "output_type": "display_data"
    },
    {
     "data": {
      "text/html": [
       "<div class=\"map-html-embed-preview-38a147a8-fa05-4728-913a-0685b63e755a\"></div>"
      ],
      "text/plain": [
       "<IPython.core.display.HTML object>"
      ]
     },
     "metadata": {},
     "output_type": "display_data"
    }
   ],
   "source": [
    "my_gis = GIS()\n",
    "m = my_gis.map(\"Vietnam, Danang\")\n",
    "m"
   ]
  },
  {
   "cell_type": "code",
   "execution_count": 3,
   "id": "3b5420a0",
   "metadata": {},
   "outputs": [
    {
     "data": {
      "application/vnd.jupyter.widget-view+json": {
       "model_id": "713b2f8ade4e4e9eaa00cdb458b0c3c3",
       "version_major": 2,
       "version_minor": 0
      },
      "text/plain": [
       "MapView(layout=Layout(height='400px', width='100%'))"
      ]
     },
     "metadata": {},
     "output_type": "display_data"
    },
    {
     "data": {
      "text/html": [
       "<div class=\"map-static-img-preview-1666d0b2-0825-476f-bd7f-6ca774957709\"><img src=\"\"></img></div>"
      ],
      "text/plain": [
       "<IPython.core.display.HTML object>"
      ]
     },
     "metadata": {},
     "output_type": "display_data"
    },
    {
     "data": {
      "text/html": [
       "<div class=\"map-html-embed-preview-1666d0b2-0825-476f-bd7f-6ca774957709\"></div>"
      ],
      "text/plain": [
       "<IPython.core.display.HTML object>"
      ]
     },
     "metadata": {},
     "output_type": "display_data"
    }
   ],
   "source": [
    "map0 = my_gis.map(\"Vietnam, Danang\")\n",
    "# map0.basemap = \"satellite\"\n",
    "map0.zoom = 15\n",
    "pt = Point({\"x\" : 108.206230, \"y\" : 16.047079, \n",
    "            \"spatialReference\" : {\"wkid\" : 4326}})\n",
    "pt_sym = {\n",
    "    \"type\": \"esriSMS\",\n",
    "    \"style\": \"esriSMSDiamond\",\n",
    "    \"color\": [255,140,0,255],        \n",
    "    \"size\": 14,\n",
    "    \"angle\": 0,\n",
    "    \"xoffset\": 0,\n",
    "    \"yoffset\": 0,\n",
    "    \"outline\": {\n",
    "        \"color\": [255,140,0,255],\n",
    "        \"width\": 1}\n",
    "}\n",
    "map0.draw(pt, symbol=pt_sym)\n",
    "map0"
   ]
  },
  {
   "cell_type": "code",
   "execution_count": 23,
   "id": "59677658",
   "metadata": {},
   "outputs": [],
   "source": [
    "line = {\n",
    "  \"paths\" : [[[108.206230, 16.047079],[108.206230,16.047078],[108.306231,16.05],[108.206231,16.05]],\n",
    "#              [[108.20624,15.047079],[108.21625,17.57079]]\n",
    "            ],\n",
    "  \"spatialReference\" : {\"wkid\" : 4326}\n",
    "}\n",
    "polyline = Polyline(line)"
   ]
  },
  {
   "cell_type": "code",
   "execution_count": 24,
   "id": "f1361863",
   "metadata": {},
   "outputs": [
    {
     "data": {
      "application/vnd.jupyter.widget-view+json": {
       "model_id": "bcd3fb4ed6324bc0bbdbc1076d68b267",
       "version_major": 2,
       "version_minor": 0
      },
      "text/plain": [
       "MapView(layout=Layout(height='400px', width='100%'))"
      ]
     },
     "metadata": {},
     "output_type": "display_data"
    },
    {
     "data": {
      "text/html": [
       "<div class=\"map-static-img-preview-f846eb5a-f913-4a7d-826e-259be82d9b73\"><img src=\"\"></img></div>"
      ],
      "text/plain": [
       "<IPython.core.display.HTML object>"
      ]
     },
     "metadata": {},
     "output_type": "display_data"
    },
    {
     "data": {
      "text/html": [
       "<div class=\"map-html-embed-preview-f846eb5a-f913-4a7d-826e-259be82d9b73\"></div>"
      ],
      "text/plain": [
       "<IPython.core.display.HTML object>"
      ]
     },
     "metadata": {},
     "output_type": "display_data"
    }
   ],
   "source": [
    "map1 = my_gis.map()\n",
    "map1.basemap = \"dark-gray\"\n",
    "map1.center = {  'spatialReference': {'latestWkid': 3857, 'wkid': 4326},\n",
    "                 'x': 108.206230,\n",
    "                 'y': 16.047079}\n",
    "map1.zoom = 11.0\n",
    "sym_poly_aoi = {\n",
    "  \"type\": \"esriSFS\",\n",
    "  \"style\": \"esriSFSSolid\",\n",
    "  \"color\": [0,0,0,0],\n",
    "    \"outline\": {\n",
    "     \"type\": \"esriSLS\",\n",
    "     \"style\": \"esriSLSSolid\",\n",
    "     \"color\": [0,255,0,255],\n",
    "     \"width\": 3}\n",
    "}\n",
    "map1.draw(polyline, symbol = sym_poly_aoi)\n",
    "map1"
   ]
  },
  {
   "cell_type": "code",
   "execution_count": 33,
   "id": "39aaa0e0",
   "metadata": {},
   "outputs": [],
   "source": [
    "polygon1 = Polygon({'spatialReference': {'latestWkid': 4326}, \n",
    "                'rings': [[[-97.06587202923951, 32.75656343500563], [-97.07033522518535, 32.75454232619796],\n",
    "                           [-97.07179434702324, 32.75443405154119], [-97.073596791488, 32.75475887587208],\n",
    "                           [-97.07501299810983, 32.75475887587208], [-97.07492716677937, 32.75616643554153],\n",
    "                           [-97.07595713555828, 32.75602207118053], [-97.07115061698558, 32.75887321736912],\n",
    "                           [-97.06930525730476, 32.75890930713694], [-97.06479914614289, 32.75739351976198],\n",
    "                           [-97.06587202923951, 32.75656343500563]]]\n",
    "                })"
   ]
  },
  {
   "cell_type": "code",
   "execution_count": 32,
   "id": "fcdeb22c",
   "metadata": {},
   "outputs": [
    {
     "data": {
      "application/vnd.jupyter.widget-view+json": {
       "model_id": "7503e11fca634206bdd47def2fc1d877",
       "version_major": 2,
       "version_minor": 0
      },
      "text/plain": [
       "MapView(layout=Layout(height='400px', width='100%'))"
      ]
     },
     "metadata": {},
     "output_type": "display_data"
    },
    {
     "data": {
      "text/html": [
       "<div class=\"map-static-img-preview-7350eae4-ffe4-4dde-b65a-60bbd8a6e17a\"><img src=\"\"></img></div>"
      ],
      "text/plain": [
       "<IPython.core.display.HTML object>"
      ]
     },
     "metadata": {},
     "output_type": "display_data"
    },
    {
     "data": {
      "text/html": [
       "<div class=\"map-html-embed-preview-7350eae4-ffe4-4dde-b65a-60bbd8a6e17a\"></div>"
      ],
      "text/plain": [
       "<IPython.core.display.HTML object>"
      ]
     },
     "metadata": {},
     "output_type": "display_data"
    }
   ],
   "source": [
    "map3 = my_gis.map()\n",
    "map3.basemap = \"topo\"\n",
    "map3.zoom = 16\n",
    "map3.center = {'x': -97.05815464365813, 'y': 32.75494892021667, \n",
    "               \"spatialReference\" : {\"wkid\" : 4326}}\n",
    "\n",
    "map3.draw(polygon1)\n",
    "map3"
   ]
  },
  {
   "cell_type": "code",
   "execution_count": 31,
   "id": "c8a912b1",
   "metadata": {},
   "outputs": [],
   "source": [
    "map3.draw(polygon1)"
   ]
  },
  {
   "cell_type": "code",
   "execution_count": 34,
   "id": "dbf88517",
   "metadata": {},
   "outputs": [],
   "source": [
    "polygon1_proj = Polygon({'spatialReference': {'wkid': 3857}, \n",
    "                  'rings': [[[-10806331.461044524, 3862983.679353406], [-10806446.116586955, 3862964.5700963344], \n",
    "                             [-10805911.057388945, 3863341.9779235027], [-10805705.632875424, 3863346.7552377703], \n",
    "                             [-10805204.01487729, 3863146.1080385167], [-10805323.447733987, 3863036.229810354],  \n",
    "                             [-10805820.288417853, 3862768.7002113485], [-10805982.717102963, 3862754.368268545], \n",
    "                             [-10806183.364302218, 3862797.3640969563], [-10806341.01567306, 3862797.3640969563], \n",
    "                             [-10806331.461044524, 3862983.679353406]]]\n",
    "                })"
   ]
  },
  {
   "cell_type": "code",
   "execution_count": 36,
   "id": "00531d07",
   "metadata": {},
   "outputs": [
    {
     "data": {
      "application/vnd.jupyter.widget-view+json": {
       "model_id": "f2028eba9c84492ca6d86aa2eb02fda0",
       "version_major": 2,
       "version_minor": 0
      },
      "text/plain": [
       "MapView(layout=Layout(height='400px', width='100%'))"
      ]
     },
     "metadata": {},
     "output_type": "display_data"
    },
    {
     "data": {
      "text/html": [
       "<div class=\"map-static-img-preview-96d7e250-cb7b-4a32-8325-20ee275abfdf\"><img src=\"\"></img></div>"
      ],
      "text/plain": [
       "<IPython.core.display.HTML object>"
      ]
     },
     "metadata": {},
     "output_type": "display_data"
    },
    {
     "data": {
      "text/html": [
       "<div class=\"map-html-embed-preview-96d7e250-cb7b-4a32-8325-20ee275abfdf\"></div>"
      ],
      "text/plain": [
       "<IPython.core.display.HTML object>"
      ]
     },
     "metadata": {},
     "output_type": "display_data"
    }
   ],
   "source": [
    "map3_proj = my_gis.map()\n",
    "map3_proj.basemap = \"topo\"\n",
    "map3_proj.zoom = 16\n",
    "map3_proj.center = {'x': -97.05815464365813, 'y': 32.75494892021667, \n",
    "               \"spatialReference\" : {\"wkid\" : 4326}}\n",
    "map3_proj"
   ]
  },
  {
   "cell_type": "code",
   "execution_count": 37,
   "id": "edfb156e",
   "metadata": {},
   "outputs": [],
   "source": [
    "map3_proj.draw(polygon1_proj)"
   ]
  },
  {
   "cell_type": "code",
   "execution_count": null,
   "id": "0496d482",
   "metadata": {},
   "outputs": [],
   "source": []
  }
 ],
 "metadata": {
  "kernelspec": {
   "display_name": "Python 3 (ipykernel)",
   "language": "python",
   "name": "python3"
  },
  "language_info": {
   "codemirror_mode": {
    "name": "ipython",
    "version": 3
   },
   "file_extension": ".py",
   "mimetype": "text/x-python",
   "name": "python",
   "nbconvert_exporter": "python",
   "pygments_lexer": "ipython3",
   "version": "3.8.0"
  }
 },
 "nbformat": 4,
 "nbformat_minor": 5
}
